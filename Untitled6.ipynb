{
  "nbformat": 4,
  "nbformat_minor": 0,
  "metadata": {
    "colab": {
      "provenance": [],
      "authorship_tag": "ABX9TyPqGYPZT8PklAHPQ9/Px6NY",
      "include_colab_link": true
    },
    "kernelspec": {
      "name": "python3",
      "display_name": "Python 3"
    },
    "language_info": {
      "name": "python"
    }
  },
  "cells": [
    {
      "cell_type": "markdown",
      "metadata": {
        "id": "view-in-github",
        "colab_type": "text"
      },
      "source": [
        "<a href=\"https://colab.research.google.com/github/Romisaa21/ITI-session-3/blob/main/Untitled6.ipynb\" target=\"_parent\"><img src=\"https://colab.research.google.com/assets/colab-badge.svg\" alt=\"Open In Colab\"/></a>"
      ]
    },
    {
      "cell_type": "code",
      "execution_count": 1,
      "metadata": {
        "id": "RrZc6LKlJiZL"
      },
      "outputs": [],
      "source": [
        "import numpy as np"
      ]
    },
    {
      "cell_type": "code",
      "source": [
        "ages = [18 , 21 , 20 , 19 , 22 , 23 , 20 , 21 , 22 , 19 ]"
      ],
      "metadata": {
        "id": "4czcSvgxKFCm"
      },
      "execution_count": 2,
      "outputs": []
    },
    {
      "cell_type": "code",
      "source": [
        "mean_manually = sum(ages) / len(ages)\n",
        "mean = np.mean(ages)\n",
        "print(mean_manually , mean)"
      ],
      "metadata": {
        "colab": {
          "base_uri": "https://localhost:8080/"
        },
        "id": "nTB-5C9kK8G-",
        "outputId": "2f428c60-9ec6-4a72-b41f-cebc6c12a53c"
      },
      "execution_count": 3,
      "outputs": [
        {
          "output_type": "stream",
          "name": "stdout",
          "text": [
            "20.5 20.5\n"
          ]
        }
      ]
    },
    {
      "cell_type": "code",
      "source": [
        "listt = np.random.randint(10 ,50 , size = 15)\n",
        "listt\n",
        "#median manually = 26"
      ],
      "metadata": {
        "colab": {
          "base_uri": "https://localhost:8080/"
        },
        "id": "oS-aE4pVLSpn",
        "outputId": "4ab55fc0-a1bd-49cd-b623-db60bdb1f151"
      },
      "execution_count": 5,
      "outputs": [
        {
          "output_type": "execute_result",
          "data": {
            "text/plain": [
              "array([33, 36, 25, 41, 26, 21, 48, 12, 41, 41, 37, 21, 18, 20, 18])"
            ]
          },
          "metadata": {},
          "execution_count": 5
        }
      ]
    },
    {
      "cell_type": "code",
      "source": [
        "np_median = np.median(listt)\n",
        "np_median"
      ],
      "metadata": {
        "colab": {
          "base_uri": "https://localhost:8080/"
        },
        "id": "3q4mfYzoLykA",
        "outputId": "d3280321-b2c2-437c-9eea-77490d92c9b1"
      },
      "execution_count": 6,
      "outputs": [
        {
          "output_type": "execute_result",
          "data": {
            "text/plain": [
              "np.float64(26.0)"
            ]
          },
          "metadata": {},
          "execution_count": 6
        }
      ]
    },
    {
      "cell_type": "code",
      "source": [
        "min=np.min(listt)\n",
        "max=np.max(listt)\n",
        "print(min , max)"
      ],
      "metadata": {
        "colab": {
          "base_uri": "https://localhost:8080/"
        },
        "id": "n0_Q6WI1MbGu",
        "outputId": "a8f3e0c0-6115-42c8-9092-75637b392e84"
      },
      "execution_count": 7,
      "outputs": [
        {
          "output_type": "stream",
          "name": "stdout",
          "text": [
            "12 48\n"
          ]
        }
      ]
    },
    {
      "cell_type": "code",
      "source": [
        "list_range = max - min\n",
        "list_range     # 48-12 = 36"
      ],
      "metadata": {
        "colab": {
          "base_uri": "https://localhost:8080/"
        },
        "id": "RKtov0vuNZwV",
        "outputId": "f1ee0bae-0f90-401e-fdc4-32c942f97aaf"
      },
      "execution_count": 8,
      "outputs": [
        {
          "output_type": "execute_result",
          "data": {
            "text/plain": [
              "np.int64(36)"
            ]
          },
          "metadata": {},
          "execution_count": 8
        }
      ]
    },
    {
      "cell_type": "code",
      "source": [
        "data = [5 , 7 , 3 , 7 , 9 , 10 , 15 , 7]"
      ],
      "metadata": {
        "id": "3_V_zsepNmUz"
      },
      "execution_count": 9,
      "outputs": []
    },
    {
      "cell_type": "code",
      "source": [
        "variance = sum((x - np.mean(data))**2 for x in data) / (len(data))\n",
        "variance"
      ],
      "metadata": {
        "colab": {
          "base_uri": "https://localhost:8080/"
        },
        "id": "1CK2o2k7N0k-",
        "outputId": "b2d5138a-39e4-4a3e-98e6-5be582772a09"
      },
      "execution_count": 16,
      "outputs": [
        {
          "output_type": "execute_result",
          "data": {
            "text/plain": [
              "np.float64(11.359375)"
            ]
          },
          "metadata": {},
          "execution_count": 16
        }
      ]
    },
    {
      "cell_type": "code",
      "source": [
        "standard = np.sqrt(variance)\n",
        "standard"
      ],
      "metadata": {
        "colab": {
          "base_uri": "https://localhost:8080/"
        },
        "id": "JDqTgneFOmI7",
        "outputId": "c2236467-6204-4d4e-d202-330957e9d1a6"
      },
      "execution_count": 17,
      "outputs": [
        {
          "output_type": "execute_result",
          "data": {
            "text/plain": [
              "np.float64(3.370367190678191)"
            ]
          },
          "metadata": {},
          "execution_count": 17
        }
      ]
    },
    {
      "cell_type": "code",
      "source": [
        "var = np.var(data)\n",
        "var"
      ],
      "metadata": {
        "colab": {
          "base_uri": "https://localhost:8080/"
        },
        "id": "MOEdUvTBO3Dx",
        "outputId": "c39db2f3-7270-4b9d-e6f8-cf94064e4bab"
      },
      "execution_count": 18,
      "outputs": [
        {
          "output_type": "execute_result",
          "data": {
            "text/plain": [
              "np.float64(11.359375)"
            ]
          },
          "metadata": {},
          "execution_count": 18
        }
      ]
    },
    {
      "cell_type": "code",
      "source": [
        "std = np.std(data)\n",
        "std"
      ],
      "metadata": {
        "colab": {
          "base_uri": "https://localhost:8080/"
        },
        "id": "ZN4Yn_6cPQ5U",
        "outputId": "92692007-07f4-4e49-de39-7c05c81b574c"
      },
      "execution_count": 19,
      "outputs": [
        {
          "output_type": "execute_result",
          "data": {
            "text/plain": [
              "np.float64(3.370367190678191)"
            ]
          },
          "metadata": {},
          "execution_count": 19
        }
      ]
    },
    {
      "cell_type": "code",
      "source": [
        "p = np.percentile(listt, [25, 50, 75])\n",
        "iqr = p[2] - p[0]\n",
        "\n",
        "print(\"25th:\", p[0])\n",
        "print(\"50th:\", p[1])\n",
        "print(\"75th:\", p[2])\n",
        "print(\"Range (IQR):\", iqr)"
      ],
      "metadata": {
        "colab": {
          "base_uri": "https://localhost:8080/"
        },
        "id": "DGmnbxxKP2t3",
        "outputId": "a70cbd28-0736-48c1-ce05-de8f57c063b9"
      },
      "execution_count": 22,
      "outputs": [
        {
          "output_type": "stream",
          "name": "stdout",
          "text": [
            "25th: 20.5\n",
            "50th: 26.0\n",
            "75th: 39.0\n",
            "Range (IQR): 18.5\n"
          ]
        }
      ]
    },
    {
      "cell_type": "code",
      "source": [
        "Z_score = (listt - np.mean(listt)) / np.std(listt)\n",
        "Z_score"
      ],
      "metadata": {
        "colab": {
          "base_uri": "https://localhost:8080/"
        },
        "id": "JEYNFMZKQPIa",
        "outputId": "5d0cf998-4cab-4b08-cb9d-a184bf0a9ebb"
      },
      "execution_count": 24,
      "outputs": [
        {
          "output_type": "execute_result",
          "data": {
            "text/plain": [
              "array([ 0.35838426,  0.6413192 , -0.39610892,  1.11287744, -0.30179727,\n",
              "       -0.77335551,  1.77305898, -1.62216034,  1.11287744,  1.11287744,\n",
              "        0.73563085, -0.77335551, -1.05629046, -0.86766716, -1.05629046])"
            ]
          },
          "metadata": {},
          "execution_count": 24
        }
      ]
    },
    {
      "cell_type": "code",
      "source": [
        "data = np.random.randint(1 , 51 , size = 25)\n",
        "data = np.concatenate((data, [400, 200]))\n",
        "Q1 = np.percentile(data, 25)\n",
        "Q3 = np.percentile(data, 75)\n",
        "IQR = Q3 - Q1\n",
        "lower_bound = Q1 - 1.5 * IQR\n",
        "upper_bound = Q3 + 1.5 * IQR\n",
        "outliers = [x for x in data if x < lower_bound or x > upper_bound]\n",
        "print(\"Outliers:\", outliers)"
      ],
      "metadata": {
        "colab": {
          "base_uri": "https://localhost:8080/"
        },
        "id": "xYY6t3soR0tM",
        "outputId": "5c3cd513-b3de-4039-a023-25d0c60ec824"
      },
      "execution_count": 27,
      "outputs": [
        {
          "output_type": "stream",
          "name": "stdout",
          "text": [
            "Outliers: [np.int64(400), np.int64(200)]\n"
          ]
        }
      ]
    }
  ]
}